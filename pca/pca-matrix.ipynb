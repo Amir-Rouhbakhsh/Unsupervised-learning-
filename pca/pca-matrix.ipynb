{
 "cells": [
  {
   "cell_type": "code",
   "execution_count": 8,
   "metadata": {},
   "outputs": [],
   "source": [
    "import numpy as np\n",
    "from numpy.linalg import svd"
   ]
  },
  {
   "cell_type": "code",
   "execution_count": 3,
   "metadata": {},
   "outputs": [
    {
     "name": "stdout",
     "output_type": "stream",
     "text": [
      "[[1. 1. 1. 0. 0.]\n",
      " [2. 2. 2. 0. 0.]\n",
      " [1. 1. 1. 0. 0.]\n",
      " [5. 5. 5. 0. 0.]\n",
      " [1. 1. 0. 2. 2.]\n",
      " [0. 0. 0. 3. 3.]\n",
      " [0. 0. 0. 1. 1.]]\n"
     ]
    }
   ],
   "source": [
    "X = np.array([[1, 1, 1, 0, 0], \n",
    "              [2, 2, 2, 0, 0], \n",
    "              [1, 1, 1, 0, 0], \n",
    "              [5, 5, 5, 0, 0], \n",
    "              [1, 1, 0, 2, 2], \n",
    "              [0, 0, 0, 3, 3], \n",
    "              [0, 0, 0, 1, 1]], dtype=np.float32)\n",
    "print(X)"
   ]
  },
  {
   "cell_type": "code",
   "execution_count": 4,
   "metadata": {},
   "outputs": [
    {
     "name": "stdout",
     "output_type": "stream",
     "text": [
      "[[-0.42857146 -0.42857146 -0.28571427 -0.85714287 -0.85714287]\n",
      " [ 0.57142854  0.57142854  0.71428573 -0.85714287 -0.85714287]\n",
      " [-0.42857146 -0.42857146 -0.28571427 -0.85714287 -0.85714287]\n",
      " [ 3.5714285   3.5714285   3.7142859  -0.85714287 -0.85714287]\n",
      " [-0.42857146 -0.42857146 -1.2857143   1.1428571   1.1428571 ]\n",
      " [-1.4285715  -1.4285715  -1.2857143   2.142857    2.142857  ]\n",
      " [-1.4285715  -1.4285715  -1.2857143   0.14285713  0.14285713]]\n"
     ]
    }
   ],
   "source": [
    "mu = np.mean(X, axis=0)\n",
    "X_norm = X - mu\n",
    "print(X_norm)"
   ]
  },
  {
   "cell_type": "code",
   "execution_count": 6,
   "metadata": {},
   "outputs": [
    {
     "data": {
      "text/plain": [
       "array([[ 2.5306125,  2.5306125,  2.5918367, -0.9387755, -0.9387755],\n",
       "       [ 2.5306125,  2.5306125,  2.5918367, -0.9387755, -0.9387755],\n",
       "       [ 2.5918367,  2.5918367,  2.7755103, -1.1020408, -1.1020408],\n",
       "       [-0.9387755, -0.9387755, -1.1020408,  1.2653061,  1.2653061],\n",
       "       [-0.9387755, -0.9387755, -1.1020408,  1.2653061,  1.2653061]],\n",
       "      dtype=float32)"
      ]
     },
     "execution_count": 6,
     "metadata": {},
     "output_type": "execute_result"
    }
   ],
   "source": [
    "m = X.shape[0]\n",
    "Sigma = (X_norm.T @ X_norm) / m\n",
    "Sigma"
   ]
  },
  {
   "cell_type": "code",
   "execution_count": 9,
   "metadata": {},
   "outputs": [
    {
     "data": {
      "text/plain": [
       "array([8.7173052e+00, 1.5831665e+00, 6.6876046e-02, 5.1563194e-16,\n",
       "       0.0000000e+00], dtype=float32)"
      ]
     },
     "execution_count": 9,
     "metadata": {},
     "output_type": "execute_result"
    }
   ],
   "source": [
    "U, S, V = svd(Sigma)\n",
    "S"
   ]
  },
  {
   "cell_type": "code",
   "execution_count": 10,
   "metadata": {},
   "outputs": [
    {
     "name": "stdout",
     "output_type": "stream",
     "text": [
      "[[ 0.16674255  1.3749475  -0.00915384]\n",
      " [-1.4442885   0.73902875 -0.02281802]\n",
      " [ 0.16674255  1.3749475  -0.00915384]\n",
      " [-6.2773814  -1.1687274  -0.0638108 ]\n",
      " [ 1.7595298  -1.1001502   0.57129437]\n",
      " [ 3.3326042  -1.9204675  -0.35202393]\n",
      " [ 2.2960503   0.7004216  -0.11433446]]\n"
     ]
    }
   ],
   "source": [
    "X_proj = X_norm @ U[:, :3]\n",
    "\n",
    "print(X_proj)\n"
   ]
  },
  {
   "cell_type": "code",
   "execution_count": 12,
   "metadata": {},
   "outputs": [
    {
     "name": "stdout",
     "output_type": "stream",
     "text": [
      "[[ 1.0000000e+00  1.0000000e+00  1.0000000e+00 -5.9604645e-08\n",
      "  -5.9604645e-08]\n",
      " [ 2.0000000e+00  2.0000000e+00  2.0000000e+00 -5.9604645e-08\n",
      "  -5.9604645e-08]\n",
      " [ 1.0000000e+00  1.0000000e+00  1.0000000e+00 -5.9604645e-08\n",
      "  -5.9604645e-08]\n",
      " [ 5.0000000e+00  5.0000000e+00  5.0000005e+00 -5.9604645e-08\n",
      "  -5.9604645e-08]\n",
      " [ 1.0000001e+00  1.0000001e+00 -1.1920929e-07  2.0000000e+00\n",
      "   2.0000000e+00]\n",
      " [ 1.1920929e-07  1.1920929e-07  0.0000000e+00  3.0000000e+00\n",
      "   3.0000000e+00]\n",
      " [ 1.1920929e-07  1.1920929e-07  0.0000000e+00  1.0000000e+00\n",
      "   1.0000000e+00]]\n"
     ]
    }
   ],
   "source": [
    "X_approx = X_proj @ U[:, :3].T + mu\n",
    "\n",
    "print(X_approx)"
   ]
  },
  {
   "cell_type": "code",
   "execution_count": 14,
   "metadata": {},
   "outputs": [
    {
     "data": {
      "text/plain": [
       "array([[1., 1., 1., 0., 0.],\n",
       "       [2., 2., 2., 0., 0.],\n",
       "       [1., 1., 1., 0., 0.],\n",
       "       [5., 5., 5., 0., 0.],\n",
       "       [1., 1., 0., 2., 2.],\n",
       "       [0., 0., 0., 3., 3.],\n",
       "       [0., 0., 0., 1., 1.]], dtype=float32)"
      ]
     },
     "execution_count": 14,
     "metadata": {},
     "output_type": "execute_result"
    }
   ],
   "source": [
    "X\n"
   ]
  },
  {
   "cell_type": "code",
   "execution_count": null,
   "metadata": {},
   "outputs": [],
   "source": []
  }
 ],
 "metadata": {
  "kernelspec": {
   "display_name": "base",
   "language": "python",
   "name": "python3"
  },
  "language_info": {
   "codemirror_mode": {
    "name": "ipython",
    "version": 3
   },
   "file_extension": ".py",
   "mimetype": "text/x-python",
   "name": "python",
   "nbconvert_exporter": "python",
   "pygments_lexer": "ipython3",
   "version": "3.9.13"
  }
 },
 "nbformat": 4,
 "nbformat_minor": 2
}
